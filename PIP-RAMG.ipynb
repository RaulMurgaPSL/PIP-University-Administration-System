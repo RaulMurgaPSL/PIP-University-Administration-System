{
 "cells": [
  {
   "cell_type": "markdown",
   "source": [
    "# Project Assessment: [University Database Web Application](CaseStudy.pdf)\n",
    "\n",
    "## Requirements:\n",
    "\n",
    "* ### Python Distributions [Geeks for Geeks](https://www.geeksforgeeks.org/source-distribution-and-built-distribution-in-python/)\n",
    "* ### [Why building a web application can be a good choice?](https://medium.com/@essentialdesign/website-vs-web-app-whats-the-difference-e499b18b60b4)\n",
    "* ### What a web application is 👆 \n",
    "* ### [How content gets delivered over the Internet](https://www.cloudflare.com/learning/cdn/what-is-a-cdn/)\n",
    "* ### [What web hosting means](https://www.website.com/beginnerguide/webhosting/6/1/what-is-web-hosting?.ws)\n",
    "* ### [Which hosting providers exist and which one to use](https://www.top10.com/hosting/comparison?utm_source=google&kw=web%20hosting&c=318376788436&t=search&p=&m=e&adpos=&dev=c&devmod=&mobval=0&network=g&campaignid=146480388&adgroupid=6389034948&targetid=kwd-10924221&interest=&physical=1010043&feedid=&a=2805&ts=hi&topic=&test=&gclid=Cj0KCQjwg7KJBhDyARIsAHrAXaE-BoYlhFHIQSLmwDwN6dkUj-dvLTTYLCvFDunw2CswYWfpvoBAsKMaAlSsEALw_wcB)\n",
    "* ### [Client-server architecture](https://www.geeksforgeeks.org/client-server-model/)\n",
    "\n",
    "\n",
    "## Courses to Follow:\n",
    "\n",
    "* ### [Coursera's Create Your First Web App with Python and Flask](https://www.coursera.org/projects/python-flask)\n",
    "* ### [Coursera's Use Python Django to Build a Website](https://es.coursera.org/projects/use-python-django-build-website)\n",
    "* ### [Building Web Applications in Django](https://www.coursera.org/programs/la-triada-pyiv5/browse?authProvider=coursera4deymonterrey&currentTab=CATALOG&productId=FVFq7YWVEeqzpxI5q0qHcw&productType=course&query=web&showMiniModal=true)\n",
    "* ### [Django for Everyone](https://www.coursera.org/programs/la-triada-pyiv5/browse?authProvider=coursera4deymonterrey&productId=4wcxMIWSEeqbnQqkTNWwfw&productType=s12n&query=python+flask+django&showMiniModal=true)\n",
    "* ### [Create a Contact List Web App w/ Django](https://es.coursera.org/projects/django-contacts-list-web-app)\n",
    "* ### [SQLalchemy](https://realpython.com/python-sqlite-sqlalchemy/)"
   ],
   "metadata": {}
  },
  {
   "cell_type": "markdown",
   "source": [
    "# Universities:\n",
    "\n",
    "# Colleges\n",
    "\n",
    "## college id\n",
    "## college name\n",
    "## college location\n",
    "## college\n",
    "## running the stream\n",
    "## list of students\n",
    "\n",
    "# Students:\n",
    "\n",
    "## student id\n",
    "## student name\n",
    "## student address\n",
    "## father’s name\n",
    "## contact number\n",
    "## degree stream\n",
    "## std code\n",
    "## marksheet details.\n",
    "\n",
    "# Mark Sheets:\n",
    "\n",
    "## subject Name, \n",
    "## subject Marks, \n",
    "## percentage, \n",
    "## ( Pass / Fail ), \n",
    "## Examination class, \n",
    "## Examination year.\n"
   ],
   "metadata": {}
  },
  {
   "cell_type": "markdown",
   "source": [
    "## Basic layout\n",
    "\n",
    "* ### Input Box\n",
    "* ### Submit Button\n",
    "* ### Receive User Input\n",
    "* ### Escape User Input\n",
    "* ### Process User Input\n",
    "\n",
    "\n"
   ],
   "metadata": {}
  },
  {
   "cell_type": "markdown",
   "source": [
    "## Tasks:\n",
    "\n",
    "### 1. Create a University Administration system web App Form which allow to performfollowing actions.\n",
    "\n",
    "#### i. Add the last year academic details of student which will be helpful for current year fresh admission.\n",
    "#### ii. Admission process for current year on the basics of last year academic\n",
    "report. If result status has pass, then allow for next year else do the\n",
    "admission for same class.\n",
    "a. Note – Passing percentage is 40%\n",
    "\n",
    "#### iii. Search Operations –\n",
    "1. Search student details by collage and academic year.\n",
    "2. Search student details by stream and academic year\n",
    "3. Find the percentage of specific student after exam.\n",
    "4. Find the marks of specific student after exam.\n",
    "#### iv. Count Operation –\n",
    "1. Total collages under University\n",
    "2. Total number of students in university.\n",
    "3. Total number of students per collage.\n",
    "4. Total streams in University\n",
    "5. Total streams in collage\n",
    "6. Total number of students fs for specific stream as per collage name.\n",
    "7. Total number of students for specific stream in University.\n",
    "#### v. Update Operation –\n",
    "1. Update Collage Name and Collage Code\n",
    "2. Update Collage Streams\n",
    "3. Update Student details as per collage name and year.\n",
    "#### vi. Delete Operation –\n",
    "1. Delete Collage Name and Collage Code\n",
    "2. Delete Collage Streams\n",
    "3. Delete Student details as per collage name and year\n",
    "#### vii. Fill Exam form\n",
    "1. This Button perform the Fill Exam Form operation on college\n",
    "information from College object and student information from\n",
    "Student object. Which will be initialize the student academic\n",
    "subject for Exam result.\n",
    "#### viii. Appear for Exam\n",
    "1. This Button to perform the Appear for Exam operation for All\n",
    "colleges on college information from College object and student\n",
    "information from Student object. Which will be initialize the student\n",
    "academic Score/Marks as per the given subject for Exam result.\n",
    "i. Note – use rand() function to initialize marks, marks\n",
    "range between 0 to 100.\n",
    "ix. File handling operation is an important part of any web application.\n",
    "1. create student.csv, student.xls, student.json, collage.csv,\n",
    "collage.xls, collage.json, university.csv, university.xls, and\n",
    "university.json format.\n",
    "2. Perform read/write operation with operations with university,\n",
    "collage, and student objects and store details in above files.\n",
    "x. Database Operation - Python can be used in database applications. create\n",
    "a database record set in following DB\n",
    "1. MySQL ( Structure database )\n",
    "2. MongoDB ( Structure, semi-structure, and unstructured database )\n",
    "i. Note – perform DDL and DML operations with\n",
    "university, collage, and student table(database)/\n",
    "document.\n",
    "#### xi. Deploy your code to Cloud (AWS/ Azure / Google App Engine )\n",
    "i. Choose a Hosting Provider: Using cloud will give you\n",
    "a good start in learning about deploying Python code\n",
    "to the web as it strikes a balance between\n",
    "abstracting away complexity and allowing you to\n",
    "customize the setup.\n",
    "ii. When choosing a web hosting provider, you need\n",
    "to confirm that it supports running Python code.\n",
    "Many of them cost money, but this case study will\n",
    "stick with a free option that’s professional and\n",
    "highly scalable yet still reasonable to set\n",
    "up:eg: Google App Engine.\n",
    "iii. Note: Google App Engine enforces daily quotas for\n",
    "each application. If your web application exceeds\n",
    "these quotas, then Google will start billing you. If\n",
    "you’re a new Google Cloud customer, then you can\n",
    "get a promotional free credit when signing up.\n",
    "iv. Google App Engine is part of the Google Cloud\n",
    "Platform (GCP), which is run by Google and\n",
    "represents one of the big cloud providers, along\n",
    "with Microsoft Azure and Amazon Web Services\n",
    "(AWS).\n",
    "\n",
    "\n",
    "2. Create a Docker Image and Upload It to Docker Hub.\n",
    "\n",
    "#### a) Package the University Administration system web application into a\n",
    "Docker image. containerize this application, push it to a Docker image\n",
    "registry, and then run the containerized application.\n",
    "\n",
    "#### b) Join a Container to the Network Namespace of Another Container.\n",
    "\n",
    "#### c) Modifying the University Administration system Web App to Connect to a\n",
    "Backend Datastore\n",
    "\n",
    "#### d) Create Services that will act as connectors to map the external requests to\n",
    "the destination pods so that we can access the pods externally without\n",
    "entering the cluster.\n",
    "\n",
    "#### e) Increase the number of replicas running the application by updating the\n",
    "replicas field of a Deployment spec.( scale a Kubernetes application up and\n",
    "down.)"
   ],
   "metadata": {}
  },
  {
   "cell_type": "code",
   "execution_count": 2,
   "source": [
    "a = [1,3,5,9,100, 112]\r\n",
    "t = 212"
   ],
   "outputs": [],
   "metadata": {}
  },
  {
   "cell_type": "code",
   "execution_count": 3,
   "source": [
    "%%timeit\r\n",
    "for i, n in enumerate(a):\r\n",
    "    for j, n_ in enumerate(a):\r\n",
    "        if i != j:\r\n",
    "            if (n+n_) == t:\r\n",
    "                r = [i,j]\r\n"
   ],
   "outputs": [
    {
     "output_type": "stream",
     "name": "stdout",
     "text": [
      "4.99 µs ± 66.9 ns per loop (mean ± std. dev. of 7 runs, 100000 loops each)\n"
     ]
    }
   ],
   "metadata": {}
  },
  {
   "cell_type": "code",
   "execution_count": 4,
   "source": [
    "%%timeit\r\n",
    "r = ([i,j] for i, n in enumerate(a) for j, n_ in enumerate(a) if (n+n_ == 6) & (i != j))\r\n",
    "r = next(r)"
   ],
   "outputs": [
    {
     "output_type": "stream",
     "name": "stdout",
     "text": [
      "1.07 µs ± 7.29 ns per loop (mean ± std. dev. of 7 runs, 1000000 loops each)\n"
     ]
    }
   ],
   "metadata": {}
  },
  {
   "cell_type": "code",
   "execution_count": null,
   "source": [],
   "outputs": [],
   "metadata": {}
  }
 ],
 "metadata": {
  "kernelspec": {
   "name": "python3",
   "display_name": "Python 3.8.11 64-bit ('learning_env': conda)"
  },
  "language_info": {
   "codemirror_mode": {
    "name": "ipython",
    "version": 3
   },
   "file_extension": ".py",
   "mimetype": "text/x-python",
   "name": "python",
   "nbconvert_exporter": "python",
   "pygments_lexer": "ipython3",
   "version": "3.8.11"
  },
  "interpreter": {
   "hash": "7782e157d710388a5285ddf514090ecf2c497e01e9a5706a30253e0efb1cfc8c"
  }
 },
 "nbformat": 4,
 "nbformat_minor": 5
}